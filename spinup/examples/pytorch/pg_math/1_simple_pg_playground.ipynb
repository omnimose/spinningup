{
 "cells": [
  {
   "cell_type": "code",
   "execution_count": 6,
   "metadata": {},
   "outputs": [],
   "source": [
    "import torch\n",
    "import torch.nn as nn\n",
    "from torch.distributions.categorical import Categorical\n",
    "from torch.optim import Adam\n",
    "import numpy as np\n",
    "import gym\n",
    "from gym.spaces import Discrete, Box\n",
    "import math"
   ]
  },
  {
   "cell_type": "code",
   "execution_count": null,
   "metadata": {},
   "outputs": [],
   "source": [
    "# make environment, check spaces, get obs / act dims\n",
    "env = gym.make('CartPole-v1', render_mode=\"human\")\n",
    "\n",
    "obs, _ = env.reset()  \n",
    "env.render()\n",
    "\n",
    "assert isinstance(env.observation_space, Box), \\\n",
    "    \"This example only works for envs with continuous state spaces.\"\n",
    "assert isinstance(env.action_space, Discrete), \\\n",
    "    \"This example only works for envs with discrete action spaces.\"\n",
    "\n",
    "obs_dim = env.observation_space.shape[0]\n",
    "n_acts = env.action_space.n\n",
    "\n",
    "\n"
   ]
  },
  {
   "cell_type": "code",
   "execution_count": null,
   "metadata": {},
   "outputs": [
    {
     "name": "stdout",
     "output_type": "stream",
     "text": [
      "Sampled action: 2\n",
      "Log probability of action 1: -1.2039728164672852\n",
      "Log probabilities of all actions: tensor([-2.3026, -1.2040, -0.5108])\n",
      "Entropy: 0.897945761680603\n"
     ]
    }
   ],
   "source": [
    "# torch.distributions.Categorical usage\n",
    "\n",
    "# Define a probability distribution\n",
    "probs = torch.tensor([0.1, 0.3, 0.6])  # Must sum to 1\n",
    "dist = torch.distributions.Categorical(probs)\n",
    "\n",
    "# Sample from the distribution\n",
    "sample = dist.sample()\n",
    "print(\"Sampled action:\", sample.item())\n",
    "\n",
    "# Get log probability of a specific action\n",
    "log_prob = dist.log_prob(torch.tensor(1))\n",
    "\n",
    "# math.log(0.3) = -1.2039728043259361\n",
    "print(\"Log probability of action 1:\", log_prob.item())\n",
    "\n",
    "indices = torch.arange(len(probs))  # Tensor of indices [0, 1, 2]\n",
    "log_probs = dist.log_prob(indices)\n",
    "print(\"Log probabilities of all actions:\", log_probs)\n",
    "\n",
    "# Entropy of the distribution\n",
    "entropy = dist.entropy()\n",
    "print(\"Entropy:\", entropy.item())\n"
   ]
  },
  {
   "cell_type": "code",
   "execution_count": 7,
   "metadata": {},
   "outputs": [
    {
     "data": {
      "text/plain": [
       "-1.2039728043259361"
      ]
     },
     "execution_count": 7,
     "metadata": {},
     "output_type": "execute_result"
    }
   ],
   "source": [
    "math.log(0.3)"
   ]
  },
  {
   "cell_type": "code",
   "execution_count": 11,
   "metadata": {},
   "outputs": [
    {
     "name": "stdout",
     "output_type": "stream",
     "text": [
      "0.8979457248567797\n"
     ]
    }
   ],
   "source": [
    "p = [0.1, 0.3, 0.6]\n",
    "\n",
    "# Calculate the entropy term: p_i * log(p_i)\n",
    "entropy_term = sum(p_i * math.log(p_i) for p_i in p)\n",
    "\n",
    "entropy_term = -entropy_term  # Negate the sum to get the entropy\n",
    "\n",
    "print(entropy_term)"
   ]
  },
  {
   "cell_type": "code",
   "execution_count": 12,
   "metadata": {},
   "outputs": [],
   "source": [
    "import torch.nn as nn\n",
    "import torch.nn.functional as F\n",
    "\n",
    "class PolicyNetwork(nn.Module):\n",
    "    def __init__(self, input_dim, output_dim):\n",
    "        super().__init__()\n",
    "        self.fc = nn.Linear(input_dim, output_dim)\n",
    "\n",
    "    def forward(self, x):\n",
    "        logits = self.fc(x)\n",
    "        return torch.distributions.Categorical(logits=logits)  # Convert logits to a categorical distribution\n",
    "\n",
    "# Example usage\n",
    "policy_net = PolicyNetwork(4, 2)  # Example: 4 input features, 2 possible actions\n",
    "state = torch.rand(4)  # Example input\n",
    "dist = policy_net(state)\n",
    "action = dist.sample()\n",
    "log_prob = dist.log_prob(action)\n"
   ]
  },
  {
   "cell_type": "code",
   "execution_count": null,
   "metadata": {},
   "outputs": [
    {
     "data": {
      "text/plain": [
       "tensor([-0.6433, -0.7456], grad_fn=<SubBackward0>)"
      ]
     },
     "execution_count": 14,
     "metadata": {},
     "output_type": "execute_result"
    }
   ],
   "source": []
  }
 ],
 "metadata": {
  "kernelspec": {
   "display_name": ".venv",
   "language": "python",
   "name": "python3"
  },
  "language_info": {
   "codemirror_mode": {
    "name": "ipython",
    "version": 3
   },
   "file_extension": ".py",
   "mimetype": "text/x-python",
   "name": "python",
   "nbconvert_exporter": "python",
   "pygments_lexer": "ipython3",
   "version": "3.11.9"
  }
 },
 "nbformat": 4,
 "nbformat_minor": 2
}
